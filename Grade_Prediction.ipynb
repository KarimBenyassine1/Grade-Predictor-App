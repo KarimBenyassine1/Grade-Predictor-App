{
  "nbformat": 4,
  "nbformat_minor": 0,
  "metadata": {
    "colab": {
      "name": "Grade-Prediction.ipynb",
      "provenance": [],
      "collapsed_sections": []
    },
    "kernelspec": {
      "name": "python3",
      "display_name": "Python 3"
    },
    "language_info": {
      "name": "python"
    }
  },
  "cells": [
    {
      "cell_type": "markdown",
      "metadata": {
        "id": "ZoBifqKcwxZL"
      },
      "source": [
        "#**American Final Grade Predictor**"
      ]
    },
    {
      "cell_type": "markdown",
      "metadata": {
        "id": "VtnL5cyWxLJ6"
      },
      "source": [
        "We collected data from almost 700 students from two portuguese high schools to predict grades.\n",
        "\n",
        "Portuguese students are given a grade from 0 to 20. This scaling can be translated into the American grading system from A-F"
      ]
    },
    {
      "cell_type": "code",
      "metadata": {
        "id": "u3hlcWXRPbKl"
      },
      "source": [
        "import numpy as np\n",
        "import pandas as pd\n",
        "\n",
        "import matplotlib.pyplot as plt\n",
        "import seaborn as sns\n",
        "from sklearn.model_selection import train_test_split\n",
        "from sklearn.preprocessing import LabelEncoder, PolynomialFeatures, StandardScaler\n",
        "\n",
        "from sklearn.linear_model import LinearRegression\n",
        "from sklearn.ensemble import RandomForestClassifier\n",
        "from sklearn.neighbors import KNeighborsClassifier\n",
        "from sklearn.svm import SVC\n",
        "\n",
        "from sklearn.metrics import r2_score, f1_score, confusion_matrix, classification_report, accuracy_score, mean_squared_error\n",
        "\n",
        "from sklearn.model_selection import cross_validate, cross_val_score"
      ],
      "execution_count": 1,
      "outputs": []
    },
    {
      "cell_type": "code",
      "metadata": {
        "id": "sQ6ruSCfPhfd"
      },
      "source": [
        "from google.colab import files\n",
        "\n",
        "uploaded = files.upload() #comment out this line after uploading file\n",
        "df = pd.read_csv('student-por.csv')\n",
        "df.head()"
      ],
      "execution_count": null,
      "outputs": []
    },
    {
      "cell_type": "code",
      "metadata": {
        "id": "S32CBi7tQWr8"
      },
      "source": [
        "print(df.shape) #(649, 33)\n",
        "\n",
        "print(df.columns)\n",
        "\n",
        "#no null values\n",
        "print(df.isnull().any())"
      ],
      "execution_count": null,
      "outputs": []
    },
    {
      "cell_type": "code",
      "metadata": {
        "id": "OD8BodUXQYmG"
      },
      "source": [
        "#descriptive statustics\n",
        "print(df.describe())"
      ],
      "execution_count": null,
      "outputs": []
    },
    {
      "cell_type": "code",
      "metadata": {
        "id": "G53gOYvR0jvr"
      },
      "source": [
        "#Bar plots of three grade periods\n",
        "plt.figure(figsize=(14,6))\n",
        "plt.subplot(1,3,1)\n",
        "sns.countplot(df[\"G1\"], x=\"final grade\")\n",
        "plt.subplot(1,3,2)\n",
        "sns.countplot(df[\"G2\"], x=\"final grade\")\n",
        "plt.subplot(1,3,3)\n",
        "sns.countplot(df[\"G3\"], x=\"final grade\")\n",
        "plt.show()"
      ],
      "execution_count": null,
      "outputs": []
    },
    {
      "cell_type": "code",
      "metadata": {
        "id": "8GpO6LliXvlS"
      },
      "source": [
        "#creating average grades with G1 and G2\n",
        "df[\"current\"] = round((df[\"G1\"]+df[\"G2\"])/2,2)\n",
        "df=df.drop([\"G1\",\"G2\"], axis=1)\n",
        "df.head()"
      ],
      "execution_count": null,
      "outputs": []
    },
    {
      "cell_type": "code",
      "metadata": {
        "id": "EcrXTQzeXBkE"
      },
      "source": [
        "sns.distplot(df[\"G3\"], bins=25)\n",
        "plt.xlabel(\"Average Grade\")"
      ],
      "execution_count": null,
      "outputs": []
    },
    {
      "cell_type": "code",
      "metadata": {
        "id": "Zd0rlr1JWgkQ"
      },
      "source": [
        "#Male and Female grade differences\n",
        "male = df.query(\"sex=='M'\")\n",
        "female = df.query(\"sex=='F'\")\n",
        "\n",
        "male.shape #(266, 33)\n",
        "female.shape #(383, 33)\n",
        "\n",
        "plt.figure(figsize=(8,6))\n",
        "sns.kdeplot(data=male[\"G3\"], color=\"blue\", label=\"Male grades\", shade=True)\n",
        "sns.kdeplot(data=female[\"G3\"], color=\"pink\", label=\"Female grades\", shade=True)\n",
        "\n",
        "plt.title(\"Histogram of grades, by Sex\")\n",
        "\n",
        "plt.legend()\n",
        "plt.show()\n",
        "\n",
        "#Males and Females seem to have a similar grade distribution. This feature might have a slight effect."
      ],
      "execution_count": null,
      "outputs": []
    },
    {
      "cell_type": "code",
      "metadata": {
        "id": "8JVEyYe42Be_"
      },
      "source": [
        "#is there a relationship between number of failed classes and final grade?\n",
        "plt.figure(figsize=(10,6))\n",
        "\n",
        "sns.boxplot(x=\"failures\", y=\"G3\", hue=\"sex\",data=df)\n",
        "\n",
        "plt.xlabel(\"Number of classes failed\")\n",
        "plt.ylabel(\"final grade\")\n",
        "plt.show()\n",
        "\n",
        "#students with no failed classes have a higher median and maximum than those who have failed a class."
      ],
      "execution_count": null,
      "outputs": []
    },
    {
      "cell_type": "code",
      "metadata": {
        "id": "DV99-y-1hBH-"
      },
      "source": [
        "#Check the grades for each binary feature\n",
        "boxplots = ['address','famsize','Pstatus','schoolsup','famsup','paid','activities','nursery','higher','internet','romantic']\n",
        "\n",
        "plt.figure(figsize=(17,17))\n",
        "\n",
        "for index, item in enumerate(boxplots):\n",
        "  plt.subplot(4,3,index+1)\n",
        "  sns.boxplot(x=item, y=\"G3\", data=df)\n",
        "  plt.ylabel(\"average grade (0-20)\") \n",
        "  plt.title(item+\" vs Average Grades\")\n",
        "\n",
        "plt.subplots_adjust(bottom=1, top = 2)\n",
        "\n",
        "plt.show()\n",
        "#There seems to be very little differences"
      ],
      "execution_count": null,
      "outputs": []
    },
    {
      "cell_type": "code",
      "metadata": {
        "id": "N_-PVBwfxZAZ"
      },
      "source": [
        "bins = (-1,7.5,10,12.5,15,20)\n",
        "grade_names = (\"F\",\"D\",\"C\",\"B\",\"A\")\n",
        "df[\"American\"] = pd.cut(df[\"G3\"], bins = bins, labels = grade_names)\n",
        "df[\"American\"].unique()"
      ],
      "execution_count": null,
      "outputs": []
    },
    {
      "cell_type": "code",
      "metadata": {
        "id": "RCJ1f8wUQ-hm"
      },
      "source": [
        "#percentages of grades\n",
        "(df[\"American\"].value_counts().sort_index(ascending=False)/df.shape[0])*100"
      ],
      "execution_count": null,
      "outputs": []
    },
    {
      "cell_type": "code",
      "metadata": {
        "id": "QCY5sRQNbbyq"
      },
      "source": [
        "df[\"American\"].value_counts().sort_index(ascending=False)"
      ],
      "execution_count": null,
      "outputs": []
    },
    {
      "cell_type": "code",
      "metadata": {
        "id": "3vymaHfexMEX"
      },
      "source": [
        "df.head()"
      ],
      "execution_count": null,
      "outputs": []
    },
    {
      "cell_type": "code",
      "metadata": {
        "id": "u-PlglFqW23F"
      },
      "source": [
        "plt.figure(figsize=(10,10))\n",
        "\n",
        "plt.subplot(2,1,1)\n",
        "sns.countplot(x=df[\"American\"], hue=df[\"reason\"])"
      ],
      "execution_count": null,
      "outputs": []
    },
    {
      "cell_type": "code",
      "metadata": {
        "id": "9MXm4gAjvkKH"
      },
      "source": [
        "#Mothers' and Fathers' jobs\n",
        "plt.figure(figsize=(10,10))\n",
        "\n",
        "plt.subplot(2,1,1)\n",
        "sns.countplot(x=df[\"Mjob\"], hue=df[\"American\"])\n",
        "plt.subplot(2,1,2)\n",
        "sns.countplot(x=df[\"Fjob\"], hue=df[\"American\"])\n",
        "plt.show()"
      ],
      "execution_count": null,
      "outputs": []
    },
    {
      "cell_type": "code",
      "metadata": {
        "id": "goFd6Wqpb9T4"
      },
      "source": [
        "plt.figure(figsize=(10,20))\n",
        "\n",
        "plt.subplot(2,1,1)\n",
        "sns.boxplot(x=\"Mjob\", y = \"G3\", data = df)\n",
        "plt.subplot(2,1,2)\n",
        "sns.boxplot(x=\"Fjob\", y = \"G3\", data = df)\n",
        "plt.show()"
      ],
      "execution_count": null,
      "outputs": []
    },
    {
      "cell_type": "code",
      "metadata": {
        "id": "U0TgWeaEONZI"
      },
      "source": [
        "#One Hot Encode Mother Job\n",
        "df = pd.concat([df, pd.get_dummies(df[\"Mjob\"],prefix=\"Mjob\")], axis=1)"
      ],
      "execution_count": null,
      "outputs": []
    },
    {
      "cell_type": "code",
      "metadata": {
        "id": "hM4wdFjVQmy4"
      },
      "source": [
        "df = df.drop([\"Mjob\", \"Mjob_teacher\"], axis=1)"
      ],
      "execution_count": null,
      "outputs": []
    },
    {
      "cell_type": "code",
      "metadata": {
        "id": "sEzDACVJRB2z"
      },
      "source": [
        "#One Hot Encode Father Job\n",
        "df = pd.concat([df, pd.get_dummies(df[\"Fjob\"],prefix=\"Fjob\")], axis=1)\n",
        "df = df.drop([\"Fjob\", \"Fjob_teacher\"], axis=1)"
      ],
      "execution_count": null,
      "outputs": []
    },
    {
      "cell_type": "code",
      "metadata": {
        "id": "FCGxK3JGrXt1"
      },
      "source": [
        "df.head()"
      ],
      "execution_count": null,
      "outputs": []
    },
    {
      "cell_type": "code",
      "metadata": {
        "id": "aU9OJg9ieeiE"
      },
      "source": [
        "#Binarize columns\n",
        "encoded_columns=['schoolsup','famsup','paid','activities','nursery','higher','internet','romantic']\n",
        "\n",
        "\n",
        "for column in encoded_columns:\n",
        "  df[column] = [1 if value == \"yes\" else 0 for value in df[column]]\n",
        "\n",
        "df['address'] = df['address'].map({\"R\": 0, \"U\":1})\n",
        "df['famsize'] = df['famsize'].map({\"LE3\": 0, \"GT3\":1})\n",
        "df['Pstatus'] = df['Pstatus'].map({\"A\": 0, \"T\":1})\n",
        "df['sex'] = df['sex'].map({'M':0,'F':1})"
      ],
      "execution_count": 5,
      "outputs": []
    },
    {
      "cell_type": "code",
      "metadata": {
        "id": "duebuUKLl6ik"
      },
      "source": [
        "df.head(10)"
      ],
      "execution_count": null,
      "outputs": []
    },
    {
      "cell_type": "code",
      "metadata": {
        "id": "xOz4-wKoWVCt"
      },
      "source": [
        "#correlations and visualization\n",
        "corr = df.drop('American', axis=1).corr()\n",
        "\n",
        "plt.figure(figsize=(10,8))\n",
        "sns.heatmap(corr,annot=True)\n",
        "plt.show()\n",
        "# Some correlation with address, Mother and father education, study time, higher education, access to internet, and family relationships"
      ],
      "execution_count": null,
      "outputs": []
    },
    {
      "cell_type": "code",
      "metadata": {
        "id": "wfxeADJibwtU"
      },
      "source": [
        "#Label encode American grades\n",
        "le = LabelEncoder()\n",
        "df[\"American\"] = le.fit_transform(df[\"American\"])"
      ],
      "execution_count": 6,
      "outputs": []
    },
    {
      "cell_type": "code",
      "metadata": {
        "id": "oaE3GqlWqinC"
      },
      "source": [
        "df.head()"
      ],
      "execution_count": null,
      "outputs": []
    },
    {
      "cell_type": "markdown",
      "metadata": {
        "id": "B4WYHSfyyDY3"
      },
      "source": [
        "##**Regression**"
      ]
    },
    {
      "cell_type": "code",
      "metadata": {
        "id": "h6fE6rDJT7cR"
      },
      "source": [
        "#seperate data into response and feature variables. (regression)\n",
        "X = df[[\"sex\",'address', 'Medu',\"Fedu\", \"studytime\",\"failures\", \"higher\", \"internet\", \"activities\", \"famrel\",\"absences\",\"current\"]]\n",
        "y = df[\"G3\"]\n",
        "\n",
        "\n",
        "#\"Mjob_at_home\",\"Mjob_health\", \"Mjob_other\",\"Mjob_services\",\"Fjob_at_home\",\"Fjob_health\",\"Fjob_other\",\"Fjob_services\"\n"
      ],
      "execution_count": 6,
      "outputs": []
    },
    {
      "cell_type": "code",
      "metadata": {
        "id": "V-3e_pzmVIXC"
      },
      "source": [
        "#train-test split data\n",
        "X_train, X_test, y_train, y_test = train_test_split(X,y,test_size = 0.2, random_state=30)\n",
        "\n",
        "transfer = StandardScaler()\n",
        "X_train = transfer.fit_transform(X_train)\n",
        "X_test = transfer.transform(X_test)"
      ],
      "execution_count": 10,
      "outputs": []
    },
    {
      "cell_type": "code",
      "metadata": {
        "id": "wEw81EhlVfMT"
      },
      "source": [
        "#Fit Linear Regression\n",
        "lin_reg = LinearRegression()\n",
        "lin_reg.fit(X_train, y_train)"
      ],
      "execution_count": null,
      "outputs": []
    },
    {
      "cell_type": "code",
      "metadata": {
        "id": "UIQd0n1oXWcT"
      },
      "source": [
        "#cross validate\n",
        "lm_cv = cross_validate(lin_reg, X_train, y_train, cv = 5, return_train_score=True, scoring=(\"r2\",\"neg_mean_squared_error\"))\n",
        "print(\"r2 train accuracies:\", lm_cv['train_r2'].mean(), \"\\nMRE train accuracies:\", lm_cv['train_neg_mean_squared_error'].mean())\n",
        "print(\"r2 test accuracies:\", lm_cv['test_r2'].mean(), \"\\nMRE test accuracies:\", lm_cv['test_neg_mean_squared_error'].mean())"
      ],
      "execution_count": null,
      "outputs": []
    },
    {
      "cell_type": "code",
      "metadata": {
        "id": "cudpxMPft1WG"
      },
      "source": [
        "#Polynomial fit\n",
        "poly_reg = PolynomialFeatures(degree=2)\n",
        "X_poly = poly_reg.fit_transform(X_train)\n",
        "new_reg = LinearRegression()\n",
        "new_reg.fit(X_poly,y_train)"
      ],
      "execution_count": null,
      "outputs": []
    },
    {
      "cell_type": "code",
      "metadata": {
        "id": "HqvLQyyouKCO"
      },
      "source": [
        "#cross validate poly\n",
        "import math\n",
        "poly_cv = cross_validate(new_reg, X_poly, y_train, cv = 5, return_train_score=True, scoring=(\"r2\",\"neg_mean_squared_error\"))\n",
        "print(\"r2 train accuracies:\", poly_cv['train_r2'].mean(), \"\\nMRE train accuracies:\", math.sqrt(-poly_cv['train_neg_mean_squared_error'].mean()))\n",
        "print(\"r2 test accuracies:\", poly_cv['test_r2'].mean(), \"\\nMRE test accuracies:\", math.sqrt(-poly_cv['test_neg_mean_squared_error'].mean()))"
      ],
      "execution_count": null,
      "outputs": []
    },
    {
      "cell_type": "code",
      "metadata": {
        "id": "WQZUsyk7t5pH"
      },
      "source": [
        "# Liner regression predictions\n",
        "lin_pred = lin_reg.predict(X_test)\n",
        "\n",
        "X_poly_test = poly_reg.fit_transform(X_test)\n",
        "poly_pred = new_reg.predict(X_poly_test)"
      ],
      "execution_count": null,
      "outputs": []
    },
    {
      "cell_type": "code",
      "metadata": {
        "id": "1mYe4WinwJ41"
      },
      "source": [
        "print(\"r2_score for linear:\", r2_score(y_test,lin_pred), mean_squared_error(y_test,lin_pred))\n",
        "print(\"r2_score for polynomial of degree 2:\", r2_score(y_test,poly_pred),mean_squared_error(y_test,poly_pred))"
      ],
      "execution_count": null,
      "outputs": []
    },
    {
      "cell_type": "markdown",
      "metadata": {
        "id": "YO6Nsf4zyLUZ"
      },
      "source": [
        "##**Classification**"
      ]
    },
    {
      "cell_type": "code",
      "metadata": {
        "id": "d83n5uCcyOYf"
      },
      "source": [
        "#seperate data into response and feature variables. (classification)\n",
        "X = df[[\"sex\",'Medu',\"Fedu\", \"studytime\",\"failures\",\"internet\", \"higher\", \"activities\", \"schoolsup\",\"current\"]]\n",
        "y = df[\"American\"]"
      ],
      "execution_count": null,
      "outputs": []
    },
    {
      "cell_type": "code",
      "metadata": {
        "id": "thWvN-Z7ydp9"
      },
      "source": [
        "#Train-test split data\n",
        "X_train, X_test, y_train, y_test = train_test_split(X,y, test_size = 0.2, random_state = 30)"
      ],
      "execution_count": null,
      "outputs": []
    },
    {
      "cell_type": "markdown",
      "metadata": {
        "id": "iHP-ZbjOQtu0"
      },
      "source": [
        "### K Nearest Neighbors"
      ]
    },
    {
      "cell_type": "code",
      "metadata": {
        "id": "ab16VVJn2cvu"
      },
      "source": [
        "knn_real = KNeighborsClassifier(n_neighbors=11)\n",
        "knn_real.fit(X_train,y_train)"
      ],
      "execution_count": null,
      "outputs": []
    },
    {
      "cell_type": "code",
      "metadata": {
        "id": "BO22gFnR3adi"
      },
      "source": [
        "knn_real_cv = cross_validate(knn_real,  X_train, y_train, cv = 10, return_train_score = True, scoring = \"accuracy\")\n",
        "print(\"Training accuracies:\", knn_real_cv['train_score'].mean(), \"\\nTest accuracies:\", knn_real_cv['test_score'].mean())"
      ],
      "execution_count": null,
      "outputs": []
    },
    {
      "cell_type": "code",
      "metadata": {
        "id": "_8IOH2uw3nej"
      },
      "source": [
        "k_range = range(1,41)\n",
        "k_scores = []\n",
        "\n",
        "for k in k_range:\n",
        "  knn = KNeighborsClassifier(n_neighbors=k)\n",
        "  scores = cross_validate(knn,  X_train, y_train, cv = 10, return_train_score = True, scoring = \"accuracy\")\n",
        "  k_scores.append(scores[\"test_score\"].mean())"
      ],
      "execution_count": null,
      "outputs": []
    },
    {
      "cell_type": "code",
      "metadata": {
        "id": "AJbl7SDF4SCs"
      },
      "source": [
        "sns.lineplot(x = k_range, y = k_scores) #11 n_neighbors remains the best"
      ],
      "execution_count": null,
      "outputs": []
    },
    {
      "cell_type": "code",
      "metadata": {
        "id": "fP9PE_fLR8tc"
      },
      "source": [
        "knn_pred = knn_real.predict(X_test)"
      ],
      "execution_count": null,
      "outputs": []
    },
    {
      "cell_type": "code",
      "metadata": {
        "id": "GPh6KRKJSJ_X"
      },
      "source": [
        "print(confusion_matrix(y_test,knn_pred))\n",
        "print(classification_report(y_test,knn_pred))\n",
        "print(accuracy_score(y_test,knn_pred))"
      ],
      "execution_count": null,
      "outputs": []
    },
    {
      "cell_type": "markdown",
      "metadata": {
        "id": "_ZuuGinlQ41V"
      },
      "source": [
        "### Random Forest Classifier"
      ]
    },
    {
      "cell_type": "code",
      "metadata": {
        "id": "o7iSTIPvUsDR"
      },
      "source": [
        "X = df[[\"activities\",'current',\"Fedu\", \"higher\",\"internet\", \"Medu\", \"schoolsup\", \"sex\",\"studytime\"]]\n",
        "y = df[\"American\"]\n",
        "X_train, X_test, y_train, y_test = train_test_split(X,y, test_size = 0.2, random_state = 30)"
      ],
      "execution_count": 7,
      "outputs": []
    },
    {
      "cell_type": "code",
      "metadata": {
        "id": "Y9lghaWoQq2a"
      },
      "source": [
        "rf_clf = RandomForestClassifier(n_estimators = 400,max_depth = 6,random_state=0)\n",
        "rf_clf.fit(X_train, y_train)"
      ],
      "execution_count": null,
      "outputs": []
    },
    {
      "cell_type": "code",
      "metadata": {
        "id": "s9OpRAZYSwak"
      },
      "source": [
        "rf_cv = cross_validate(rf_clf,  X_train, y_train, cv = 5, return_train_score = True, scoring = \"accuracy\")\n",
        "print(\"Training accuracies:\", rf_cv['train_score'].mean(), \"\\nValidation accuracies:\", rf_cv['test_score'].mean())"
      ],
      "execution_count": null,
      "outputs": []
    },
    {
      "cell_type": "code",
      "metadata": {
        "id": "XStBPd7JUPZp"
      },
      "source": [
        "#feature importance\n",
        "print(list(X_train.columns), \"\\nimportances\", rf_clf.feature_importances_)"
      ],
      "execution_count": null,
      "outputs": []
    },
    {
      "cell_type": "code",
      "metadata": {
        "id": "b5tFSnzPXmv3"
      },
      "source": [
        "rf_pred = rf_clf.predict(X_test)\n",
        "print(confusion_matrix(y_test,rf_pred))\n",
        "print(classification_report(y_test,rf_pred))\n",
        "print(accuracy_score(y_test,rf_pred))"
      ],
      "execution_count": null,
      "outputs": []
    },
    {
      "cell_type": "markdown",
      "metadata": {
        "id": "mHfXiPkR0TZn"
      },
      "source": [
        "## Support Vector Machines"
      ]
    },
    {
      "cell_type": "code",
      "metadata": {
        "id": "34DaW8av0YHW"
      },
      "source": [
        "X = df[[\"sex\",\"address\",'Medu',\"Fedu\", \"studytime\",\"internet\", \"higher\", \"activities\",\"current\"]]\n",
        "y = df[\"American\"]\n",
        "X_train, X_test, y_train, y_test = train_test_split(X,y, test_size = 0.2, random_state = 30)"
      ],
      "execution_count": 13,
      "outputs": []
    },
    {
      "cell_type": "code",
      "metadata": {
        "id": "xdlDsLa40eIp"
      },
      "source": [
        "sm_clf = SVC(kernel=\"rbf\", decision_function_shape=\"ovo\", C=4)\n",
        "sm_clf.fit(X_train, y_train)"
      ],
      "execution_count": null,
      "outputs": []
    },
    {
      "cell_type": "code",
      "metadata": {
        "id": "m5oogwWt5hMt"
      },
      "source": [
        "sm_cv = cross_validate(sm_clf,  X_train, y_train, cv = 5, return_train_score = True, scoring = \"accuracy\")\n",
        "print(\"Training accuracies:\", sm_cv['train_score'].mean(), \"\\nValidation accuracies:\", sm_cv['test_score'].mean())"
      ],
      "execution_count": null,
      "outputs": []
    },
    {
      "cell_type": "code",
      "metadata": {
        "id": "-8N8uFWU7FvL"
      },
      "source": [
        "sm_pred = sm_clf.predict(X_test)\n",
        "print(confusion_matrix(y_test,sm_pred))\n",
        "print(classification_report(y_test,sm_pred))\n",
        "print(accuracy_score(y_test,sm_pred))"
      ],
      "execution_count": null,
      "outputs": []
    },
    {
      "cell_type": "markdown",
      "metadata": {
        "id": "JNNHCexT7rSR"
      },
      "source": [
        "##Random forest classifier seems to do the best"
      ]
    },
    {
      "cell_type": "code",
      "metadata": {
        "id": "hg-r2Cf57v9K"
      },
      "source": [
        "import pickle\n",
        "from sklearn.externals import joblib\n",
        "filename = \"random_forest_grade.joblib\"\n",
        "joblib.dump(rf_clf,filename)\n",
        "\n",
        "from google.colab import files\n",
        "files.download(filename)"
      ],
      "execution_count": null,
      "outputs": []
    }
  ]
}